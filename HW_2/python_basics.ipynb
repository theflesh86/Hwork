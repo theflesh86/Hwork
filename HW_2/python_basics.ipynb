{
 "cells": [
  {
   "cell_type": "markdown",
   "metadata": {},
   "source": [
    "**Задание 1**. Даны 2 строки: *long_phrase* и *short_phrase*. \n",
    "Напишите код, который проверяет действительно ли длинная фраза *long_phrase* длиннее короткой *short_phrase*. И выводит *True* или *False* в зависимости от результата сравнения."
   ]
  },
  {
   "cell_type": "code",
   "execution_count": null,
   "metadata": {},
   "outputs": [],
   "source": [
    "long_phrase = 'Насколько проще было бы писать программы, если бы не заказчики'\n",
    "short_phrase = '640Кб должно хватить для любых задач. Билл Гейтс (по легенде)'"
   ]
  },
  {
   "cell_type": "code",
   "execution_count": 26,
   "metadata": {},
   "outputs": [
    {
     "data": {
      "text/plain": [
       "False"
      ]
     },
     "execution_count": 26,
     "metadata": {},
     "output_type": "execute_result"
    }
   ],
   "source": [
    "len('long_phrase') > len('short_phrase')"
   ]
  },
  {
   "cell_type": "markdown",
   "metadata": {},
   "source": [
    "**Задание 2**. Дано значение объема файла в байтах (*в мегабайте 2^20 байт*). Напишите перевод этого значения в мегабайты в формате: \"*Объем файла равен 213.68Mb*\"."
   ]
  },
  {
   "cell_type": "code",
   "execution_count": 80,
   "metadata": {},
   "outputs": [
    {
     "name": "stdout",
     "output_type": "stream",
     "text": [
      "ВВедите количество байт: 17888667\n",
      "Объем файла равен:     17.060 Mb\n"
     ]
    }
   ],
   "source": [
    "file_volume = int(input('ВВедите количество байт: '))\n",
    "print(\"Объем файла равен: %10.3f\" % (file_volume / 2**20),'Mb')\n",
    "# почему- то 2^20 даёт неверный результат, а с ** - нормально"
   ]
  },
  {
   "cell_type": "markdown",
   "metadata": {},
   "source": [
    "**Задание 3**. Разработать приложение для определения знака зодиака по дате рождения. Пример:\n",
    "\n",
    "Введите месяц: март\n",
    "\n",
    "Введите число: 6\n",
    "\n",
    "Вывод:\n",
    "Рыбы"
   ]
  },
  {
   "cell_type": "code",
   "execution_count": 2,
   "metadata": {},
   "outputs": [
    {
     "name": "stdout",
     "output_type": "stream",
     "text": [
      "Введите дату: 6\n",
      "Введите месяц: март\n",
      "Ваш знак: Рыбы\n"
     ]
    }
   ],
   "source": [
    "data = int(input(\"Введите дату: \"))\n",
    "month = input(\"Введите месяц: \")\n",
    "if month == 'декабрь':\n",
    "    sign = 'Стрелец' if (data < 22) else 'Козерог'\n",
    "elif month == 'январь':\n",
    "    sign = 'Козерог' if (data < 20) else 'Водолей'\n",
    "elif month == 'февраль':\n",
    "    sign = 'Водолей' if (data < 19) else 'Рыбы'\n",
    "elif month == 'март':\n",
    "    sign = 'Рыбы' if (data < 21) else 'Овен'\n",
    "elif month == 'апрель':\n",
    "    sign = 'Овен' if (data < 20) else 'Телец'\n",
    "elif month == 'май':\n",
    "    sign = 'Телец' if (data < 21) else 'Близнецы'\n",
    "elif month == 'июнь':\n",
    "    sign = 'Близнецы' if (data < 21) else 'Рак'\n",
    "elif month == 'июль':\n",
    "    sign = 'Рак' if (data < 23) else 'Лев'\n",
    "elif month == 'август':\n",
    "    sign = 'Лев' if (data < 23) else 'Дева'\n",
    "elif month == 'сентябрь':\n",
    "    sign = 'Дева' if (data < 23) else 'Весы'\n",
    "elif month == 'октябрь':\n",
    "    sign = 'Весы' if (data < 23) else 'Скорпион'\n",
    "elif month == 'ноябрь':\n",
    "    sign = 'Скорпион' if (data < 22) else 'Стрелец'\n",
    "print(\"Ваш знак:\",sign)"
   ]
  },
  {
   "cell_type": "markdown",
   "metadata": {},
   "source": [
    "**Задание 4**. Нужно разработать приложение для финансового планирования.\n",
    "Приложение учитывает сколько уходит на ипотеку, \"на жизнь\" и сколько нужно отложить на пенсию.\n",
    "Пользователь вводит:\n",
    "- заработанную плату в месяц.\n",
    "- сколько процентов от ЗП уходит на ипотеку.\n",
    "- сколько процентов от ЗП уходит \"на жизнь\".\n",
    "- сколько раз приходит премия в год.\n",
    "\n",
    "Остальная часть заработанной платы откладывается на пенсию.\n",
    "\n",
    "Также пользователю приходит премия в размере зарплаты, от которой половина уходит на отпуск, а вторая половина откладывается.\n",
    "\n",
    "Программа должна учитывать сколько премий было в год.\n",
    "\n",
    "Нужно вывести сколько денег тратит пользователь на ипотеку и сколько он накопит за год.\n",
    "\n",
    "Пример:\n",
    "\n",
    "Введите заработанную плату в месяц: 100000\n",
    "\n",
    "Введите сколько процентов уходит на ипотеку: 30\n",
    "\n",
    "Введите сколько процентов уходит на жизнь: 50\n",
    "\n",
    "Введите количество премий за год: 2\n",
    "\n",
    "Вывод:\n",
    "На ипотеку было потрачено: 360000 рублей\n",
    "Было накоплено: 340000 рублей"
   ]
  },
  {
   "cell_type": "code",
   "execution_count": 7,
   "metadata": {},
   "outputs": [
    {
     "name": "stdout",
     "output_type": "stream",
     "text": [
      "Введите зарплату за месяц 25000\n",
      "Введите количество % по оплате ипотеки 20\n",
      "Траты на жизнь в % 50\n",
      "Количество премий в год 4\n",
      "Отложено на пенсию:  70000.0 На ипотеку потрачено:  80000.0\n"
     ]
    }
   ],
   "source": [
    "zp = int(input('Введите зарплату за месяц '))\n",
    "mortgage_spend = int(input('Введите количество % по оплате ипотеки '))\n",
    "lifestyle_spend = int(input('Траты на жизнь в % '))\n",
    "award_quantity = int(input('Количество премий в год '))\n",
    "award = zp  #от этой строки можно отказаться скорее всего\n",
    "common_income = (12 * zp) + (award * 4)  # считаем общий доход за год\n",
    "vacation_spend = (award * 4) // 2    # половину премии тратим на отпуск\n",
    "retiment_deposite = common_income - ((common_income * (mortgage_spend / 100)) + (common_income * (lifestyle_spend / 100)) + vacation_spend)\n",
    "print('Отложено на пенсию: ', retiment_deposite, 'На ипотеку потрачено: ', (common_income * (mortgage_spend / 100)))"
   ]
  }
 ],
 "metadata": {
  "kernelspec": {
   "display_name": "Python 3",
   "language": "python",
   "name": "python3"
  },
  "language_info": {
   "codemirror_mode": {
    "name": "ipython",
    "version": 3
   },
   "file_extension": ".py",
   "mimetype": "text/x-python",
   "name": "python",
   "nbconvert_exporter": "python",
   "pygments_lexer": "ipython3",
   "version": "3.7.4"
  }
 },
 "nbformat": 4,
 "nbformat_minor": 2
}
